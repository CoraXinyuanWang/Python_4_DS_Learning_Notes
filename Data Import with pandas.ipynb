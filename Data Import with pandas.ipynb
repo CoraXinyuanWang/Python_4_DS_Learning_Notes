{
 "cells": [
  {
   "cell_type": "markdown",
   "id": "0324b986-d610-4eec-8b5e-a243aa89eef2",
   "metadata": {},
   "source": [
    "# 8. Data Import \n",
    "While pandas has a huge number of ways to read data in and load it into your Python, we focus on plain-text table files, such as csv, and tsv. \n",
    "All of the power needed to open plain-text files is contained in a single function: pd.read_csv()"
   ]
  },
  {
   "cell_type": "code",
   "execution_count": 3,
   "id": "3869193c-4efe-463a-a133-477387b3896f",
   "metadata": {},
   "outputs": [],
   "source": [
    "import pandas as pd"
   ]
  },
  {
   "cell_type": "code",
   "execution_count": 4,
   "id": "ffd4a39c-213c-4a8f-9b6f-acc936ca06ef",
   "metadata": {},
   "outputs": [
    {
     "data": {
      "text/plain": [
       "'/Users/wangxinyuan/Data Analysis with Python'"
      ]
     },
     "execution_count": 4,
     "metadata": {},
     "output_type": "execute_result"
    }
   ],
   "source": [
    "import os\n",
    "\n",
    "os.getcwd()  # get current working directory (cwd)"
   ]
  },
  {
   "cell_type": "code",
   "execution_count": 5,
   "id": "337b84e3-2f9d-4980-ad9e-571cdbe7b6d7",
   "metadata": {},
   "outputs": [
    {
     "name": "stdout",
     "output_type": "stream",
     "text": [
      "   Student ID         Full Name      favourite.food             mealPlan   AGE\n",
      "0           1    Sunil Huffmann  Strawberry yoghurt           Lunch only     4\n",
      "1           2      Barclay Lynn        French fries           Lunch only     5\n",
      "2           3     Jayendra Lyne                 NaN  Breakfast and lunch     7\n",
      "3           4      Leon Rossini           Anchovies           Lunch only     8\n",
      "4           5  Chidiegwu Dunkel               Pizza  Breakfast and lunch  five\n",
      "5           6     Güvenç Attila           Ice cream           Lunch only     6\n"
     ]
    }
   ],
   "source": [
    "import pandas as pd\n",
    "\n",
    "students = pd.read_csv(\"/Users/wangxinyuan/Desktop/data/students.csv\")\n",
    "print(students)"
   ]
  },
  {
   "cell_type": "markdown",
   "id": "292aeb82-025c-4df8-9f6a-06de9fad309b",
   "metadata": {},
   "source": [
    "The read CSV function automatically creates a new index, which is just the position of each row, and takes the top line of data as the header or column names. Sometimes, the data do not have column names and you can use names = a list to tell read_csv() to use a different option for the column names."
   ]
  },
  {
   "cell_type": "code",
   "execution_count": 6,
   "id": "8eb8336a-8a8e-4c93-b2ca-00d8ec4e0a92",
   "metadata": {},
   "outputs": [
    {
     "data": {
      "text/html": [
       "<div>\n",
       "<style scoped>\n",
       "    .dataframe tbody tr th:only-of-type {\n",
       "        vertical-align: middle;\n",
       "    }\n",
       "\n",
       "    .dataframe tbody tr th {\n",
       "        vertical-align: top;\n",
       "    }\n",
       "\n",
       "    .dataframe thead th {\n",
       "        text-align: right;\n",
       "    }\n",
       "</style>\n",
       "<table border=\"1\" class=\"dataframe\">\n",
       "  <thead>\n",
       "    <tr style=\"text-align: right;\">\n",
       "      <th></th>\n",
       "      <th>0</th>\n",
       "      <th>1</th>\n",
       "      <th>2</th>\n",
       "      <th>3</th>\n",
       "      <th>4</th>\n",
       "    </tr>\n",
       "  </thead>\n",
       "  <tbody>\n",
       "    <tr>\n",
       "      <th>0</th>\n",
       "      <td>Student ID</td>\n",
       "      <td>Full Name</td>\n",
       "      <td>favourite.food</td>\n",
       "      <td>mealPlan</td>\n",
       "      <td>AGE</td>\n",
       "    </tr>\n",
       "    <tr>\n",
       "      <th>1</th>\n",
       "      <td>1</td>\n",
       "      <td>Sunil Huffmann</td>\n",
       "      <td>Strawberry yoghurt</td>\n",
       "      <td>Lunch only</td>\n",
       "      <td>4</td>\n",
       "    </tr>\n",
       "    <tr>\n",
       "      <th>2</th>\n",
       "      <td>2</td>\n",
       "      <td>Barclay Lynn</td>\n",
       "      <td>French fries</td>\n",
       "      <td>Lunch only</td>\n",
       "      <td>5</td>\n",
       "    </tr>\n",
       "    <tr>\n",
       "      <th>3</th>\n",
       "      <td>3</td>\n",
       "      <td>Jayendra Lyne</td>\n",
       "      <td>NaN</td>\n",
       "      <td>Breakfast and lunch</td>\n",
       "      <td>7</td>\n",
       "    </tr>\n",
       "    <tr>\n",
       "      <th>4</th>\n",
       "      <td>4</td>\n",
       "      <td>Leon Rossini</td>\n",
       "      <td>Anchovies</td>\n",
       "      <td>Lunch only</td>\n",
       "      <td>8</td>\n",
       "    </tr>\n",
       "    <tr>\n",
       "      <th>5</th>\n",
       "      <td>5</td>\n",
       "      <td>Chidiegwu Dunkel</td>\n",
       "      <td>Pizza</td>\n",
       "      <td>Breakfast and lunch</td>\n",
       "      <td>five</td>\n",
       "    </tr>\n",
       "    <tr>\n",
       "      <th>6</th>\n",
       "      <td>6</td>\n",
       "      <td>Güvenç Attila</td>\n",
       "      <td>Ice cream</td>\n",
       "      <td>Lunch only</td>\n",
       "      <td>6</td>\n",
       "    </tr>\n",
       "  </tbody>\n",
       "</table>\n",
       "</div>"
      ],
      "text/plain": [
       "            0                 1                   2                    3     4\n",
       "0  Student ID         Full Name      favourite.food             mealPlan   AGE\n",
       "1           1    Sunil Huffmann  Strawberry yoghurt           Lunch only     4\n",
       "2           2      Barclay Lynn        French fries           Lunch only     5\n",
       "3           3     Jayendra Lyne                 NaN  Breakfast and lunch     7\n",
       "4           4      Leon Rossini           Anchovies           Lunch only     8\n",
       "5           5  Chidiegwu Dunkel               Pizza  Breakfast and lunch  five\n",
       "6           6     Güvenç Attila           Ice cream           Lunch only     6"
      ]
     },
     "execution_count": 6,
     "metadata": {},
     "output_type": "execute_result"
    }
   ],
   "source": [
    "df_1= pd.read_csv(\"/Users/wangxinyuan/Desktop/data/students.csv\", names = range (5))\n",
    "df_1"
   ]
  },
  {
   "cell_type": "markdown",
   "id": "b5fd7c13-9e96-46a3-a2a6-57695d674d5f",
   "metadata": {},
   "source": [
    "You may wish to change which column is used as the index. To do this, use index_col= argument, for example: "
   ]
  },
  {
   "cell_type": "code",
   "execution_count": 7,
   "id": "1d314686-e7f7-4666-849f-d47c9c701819",
   "metadata": {},
   "outputs": [
    {
     "data": {
      "text/html": [
       "<div>\n",
       "<style scoped>\n",
       "    .dataframe tbody tr th:only-of-type {\n",
       "        vertical-align: middle;\n",
       "    }\n",
       "\n",
       "    .dataframe tbody tr th {\n",
       "        vertical-align: top;\n",
       "    }\n",
       "\n",
       "    .dataframe thead th {\n",
       "        text-align: right;\n",
       "    }\n",
       "</style>\n",
       "<table border=\"1\" class=\"dataframe\">\n",
       "  <thead>\n",
       "    <tr style=\"text-align: right;\">\n",
       "      <th></th>\n",
       "      <th>Full Name</th>\n",
       "      <th>favourite.food</th>\n",
       "      <th>mealPlan</th>\n",
       "      <th>AGE</th>\n",
       "    </tr>\n",
       "    <tr>\n",
       "      <th>Student ID</th>\n",
       "      <th></th>\n",
       "      <th></th>\n",
       "      <th></th>\n",
       "      <th></th>\n",
       "    </tr>\n",
       "  </thead>\n",
       "  <tbody>\n",
       "    <tr>\n",
       "      <th>1</th>\n",
       "      <td>Sunil Huffmann</td>\n",
       "      <td>Strawberry yoghurt</td>\n",
       "      <td>Lunch only</td>\n",
       "      <td>4</td>\n",
       "    </tr>\n",
       "    <tr>\n",
       "      <th>2</th>\n",
       "      <td>Barclay Lynn</td>\n",
       "      <td>French fries</td>\n",
       "      <td>Lunch only</td>\n",
       "      <td>5</td>\n",
       "    </tr>\n",
       "    <tr>\n",
       "      <th>3</th>\n",
       "      <td>Jayendra Lyne</td>\n",
       "      <td>NaN</td>\n",
       "      <td>Breakfast and lunch</td>\n",
       "      <td>7</td>\n",
       "    </tr>\n",
       "    <tr>\n",
       "      <th>4</th>\n",
       "      <td>Leon Rossini</td>\n",
       "      <td>Anchovies</td>\n",
       "      <td>Lunch only</td>\n",
       "      <td>8</td>\n",
       "    </tr>\n",
       "    <tr>\n",
       "      <th>5</th>\n",
       "      <td>Chidiegwu Dunkel</td>\n",
       "      <td>Pizza</td>\n",
       "      <td>Breakfast and lunch</td>\n",
       "      <td>five</td>\n",
       "    </tr>\n",
       "    <tr>\n",
       "      <th>6</th>\n",
       "      <td>Güvenç Attila</td>\n",
       "      <td>Ice cream</td>\n",
       "      <td>Lunch only</td>\n",
       "      <td>6</td>\n",
       "    </tr>\n",
       "  </tbody>\n",
       "</table>\n",
       "</div>"
      ],
      "text/plain": [
       "                   Full Name      favourite.food             mealPlan   AGE\n",
       "Student ID                                                                 \n",
       "1             Sunil Huffmann  Strawberry yoghurt           Lunch only     4\n",
       "2               Barclay Lynn        French fries           Lunch only     5\n",
       "3              Jayendra Lyne                 NaN  Breakfast and lunch     7\n",
       "4               Leon Rossini           Anchovies           Lunch only     8\n",
       "5           Chidiegwu Dunkel               Pizza  Breakfast and lunch  five\n",
       "6              Güvenç Attila           Ice cream           Lunch only     6"
      ]
     },
     "execution_count": 7,
     "metadata": {},
     "output_type": "execute_result"
    }
   ],
   "source": [
    "df_2= pd.read_csv(\"/Users/wangxinyuan/Desktop/data/students.csv\", index_col=0)\n",
    "df_2"
   ]
  },
  {
   "cell_type": "markdown",
   "id": "f2e290ad-496f-438c-8b47-bdf61e47f681",
   "metadata": {},
   "source": [
    "## 8.2.2 First Steps \n",
    "The column names might not be formatted in standard ways. You might consider renaming them. "
   ]
  },
  {
   "cell_type": "code",
   "execution_count": 8,
   "id": "014db5b6-e3c7-4d7c-83ae-978608a4a5f3",
   "metadata": {},
   "outputs": [
    {
     "data": {
      "text/html": [
       "<div>\n",
       "<style scoped>\n",
       "    .dataframe tbody tr th:only-of-type {\n",
       "        vertical-align: middle;\n",
       "    }\n",
       "\n",
       "    .dataframe tbody tr th {\n",
       "        vertical-align: top;\n",
       "    }\n",
       "\n",
       "    .dataframe thead th {\n",
       "        text-align: right;\n",
       "    }\n",
       "</style>\n",
       "<table border=\"1\" class=\"dataframe\">\n",
       "  <thead>\n",
       "    <tr style=\"text-align: right;\">\n",
       "      <th></th>\n",
       "      <th>student_id</th>\n",
       "      <th>full_name</th>\n",
       "      <th>favourite_food</th>\n",
       "      <th>meal_plan</th>\n",
       "      <th>age</th>\n",
       "    </tr>\n",
       "  </thead>\n",
       "  <tbody>\n",
       "    <tr>\n",
       "      <th>0</th>\n",
       "      <td>1</td>\n",
       "      <td>Sunil Huffmann</td>\n",
       "      <td>Strawberry yoghurt</td>\n",
       "      <td>Lunch only</td>\n",
       "      <td>4</td>\n",
       "    </tr>\n",
       "    <tr>\n",
       "      <th>1</th>\n",
       "      <td>2</td>\n",
       "      <td>Barclay Lynn</td>\n",
       "      <td>French fries</td>\n",
       "      <td>Lunch only</td>\n",
       "      <td>5</td>\n",
       "    </tr>\n",
       "    <tr>\n",
       "      <th>2</th>\n",
       "      <td>3</td>\n",
       "      <td>Jayendra Lyne</td>\n",
       "      <td>NaN</td>\n",
       "      <td>Breakfast and lunch</td>\n",
       "      <td>7</td>\n",
       "    </tr>\n",
       "    <tr>\n",
       "      <th>3</th>\n",
       "      <td>4</td>\n",
       "      <td>Leon Rossini</td>\n",
       "      <td>Anchovies</td>\n",
       "      <td>Lunch only</td>\n",
       "      <td>8</td>\n",
       "    </tr>\n",
       "    <tr>\n",
       "      <th>4</th>\n",
       "      <td>5</td>\n",
       "      <td>Chidiegwu Dunkel</td>\n",
       "      <td>Pizza</td>\n",
       "      <td>Breakfast and lunch</td>\n",
       "      <td>five</td>\n",
       "    </tr>\n",
       "    <tr>\n",
       "      <th>5</th>\n",
       "      <td>6</td>\n",
       "      <td>Güvenç Attila</td>\n",
       "      <td>Ice cream</td>\n",
       "      <td>Lunch only</td>\n",
       "      <td>6</td>\n",
       "    </tr>\n",
       "  </tbody>\n",
       "</table>\n",
       "</div>"
      ],
      "text/plain": [
       "   student_id         full_name      favourite_food            meal_plan   age\n",
       "0           1    Sunil Huffmann  Strawberry yoghurt           Lunch only     4\n",
       "1           2      Barclay Lynn        French fries           Lunch only     5\n",
       "2           3     Jayendra Lyne                 NaN  Breakfast and lunch     7\n",
       "3           4      Leon Rossini           Anchovies           Lunch only     8\n",
       "4           5  Chidiegwu Dunkel               Pizza  Breakfast and lunch  five\n",
       "5           6     Güvenç Attila           Ice cream           Lunch only     6"
      ]
     },
     "execution_count": 8,
     "metadata": {},
     "output_type": "execute_result"
    }
   ],
   "source": [
    "from skimpy import clean_columns \n",
    "students = clean_columns (students)\n",
    "students"
   ]
  },
  {
   "cell_type": "markdown",
   "id": "f1fd8e5b-9691-45f3-94f9-3b70edbb809d",
   "metadata": {},
   "source": [
    "Another task after reading in data is to consider variable types. In the favourite_food column, there are some food items and then the value NaN, which has been read in as a floating point number rather than a missing string. We can solve this by casting that column to explicitly be composed of strings: "
   ]
  },
  {
   "cell_type": "code",
   "execution_count": 9,
   "id": "5bd296fe-eecf-4cda-a5c3-bc1a75f59e4e",
   "metadata": {},
   "outputs": [
    {
     "data": {
      "text/html": [
       "<div>\n",
       "<style scoped>\n",
       "    .dataframe tbody tr th:only-of-type {\n",
       "        vertical-align: middle;\n",
       "    }\n",
       "\n",
       "    .dataframe tbody tr th {\n",
       "        vertical-align: top;\n",
       "    }\n",
       "\n",
       "    .dataframe thead th {\n",
       "        text-align: right;\n",
       "    }\n",
       "</style>\n",
       "<table border=\"1\" class=\"dataframe\">\n",
       "  <thead>\n",
       "    <tr style=\"text-align: right;\">\n",
       "      <th></th>\n",
       "      <th>student_id</th>\n",
       "      <th>full_name</th>\n",
       "      <th>favourite_food</th>\n",
       "      <th>meal_plan</th>\n",
       "      <th>age</th>\n",
       "    </tr>\n",
       "  </thead>\n",
       "  <tbody>\n",
       "    <tr>\n",
       "      <th>0</th>\n",
       "      <td>1</td>\n",
       "      <td>Sunil Huffmann</td>\n",
       "      <td>Strawberry yoghurt</td>\n",
       "      <td>Lunch only</td>\n",
       "      <td>4</td>\n",
       "    </tr>\n",
       "    <tr>\n",
       "      <th>1</th>\n",
       "      <td>2</td>\n",
       "      <td>Barclay Lynn</td>\n",
       "      <td>French fries</td>\n",
       "      <td>Lunch only</td>\n",
       "      <td>5</td>\n",
       "    </tr>\n",
       "    <tr>\n",
       "      <th>2</th>\n",
       "      <td>3</td>\n",
       "      <td>Jayendra Lyne</td>\n",
       "      <td>&lt;NA&gt;</td>\n",
       "      <td>Breakfast and lunch</td>\n",
       "      <td>7</td>\n",
       "    </tr>\n",
       "    <tr>\n",
       "      <th>3</th>\n",
       "      <td>4</td>\n",
       "      <td>Leon Rossini</td>\n",
       "      <td>Anchovies</td>\n",
       "      <td>Lunch only</td>\n",
       "      <td>8</td>\n",
       "    </tr>\n",
       "    <tr>\n",
       "      <th>4</th>\n",
       "      <td>5</td>\n",
       "      <td>Chidiegwu Dunkel</td>\n",
       "      <td>Pizza</td>\n",
       "      <td>Breakfast and lunch</td>\n",
       "      <td>five</td>\n",
       "    </tr>\n",
       "    <tr>\n",
       "      <th>5</th>\n",
       "      <td>6</td>\n",
       "      <td>Güvenç Attila</td>\n",
       "      <td>Ice cream</td>\n",
       "      <td>Lunch only</td>\n",
       "      <td>6</td>\n",
       "    </tr>\n",
       "  </tbody>\n",
       "</table>\n",
       "</div>"
      ],
      "text/plain": [
       "   student_id         full_name      favourite_food            meal_plan   age\n",
       "0           1    Sunil Huffmann  Strawberry yoghurt           Lunch only     4\n",
       "1           2      Barclay Lynn        French fries           Lunch only     5\n",
       "2           3     Jayendra Lyne                <NA>  Breakfast and lunch     7\n",
       "3           4      Leon Rossini           Anchovies           Lunch only     8\n",
       "4           5  Chidiegwu Dunkel               Pizza  Breakfast and lunch  five\n",
       "5           6     Güvenç Attila           Ice cream           Lunch only     6"
      ]
     },
     "execution_count": 9,
     "metadata": {},
     "output_type": "execute_result"
    }
   ],
   "source": [
    "students [\"favourite_food\"]= students [\"favourite_food\"].astype (\"string\")\n",
    "students"
   ]
  },
  {
   "cell_type": "markdown",
   "id": "ced86ac7-9c76-4883-a85d-7a9fe1ee2ca9",
   "metadata": {},
   "source": [
    "Similarly, \"age\" has mixed data type: string and int"
   ]
  },
  {
   "cell_type": "code",
   "execution_count": 10,
   "id": "4247cd41-101c-45f7-afef-3a00563da03a",
   "metadata": {},
   "outputs": [
    {
     "data": {
      "text/plain": [
       "0    4\n",
       "1    5\n",
       "2    7\n",
       "3    8\n",
       "4    5\n",
       "5    6\n",
       "Name: age, dtype: object"
      ]
     },
     "execution_count": 10,
     "metadata": {},
     "output_type": "execute_result"
    }
   ],
   "source": [
    "students [\"age\"]=students [\"age\"].replace (\"five\",5)\n",
    "students [\"age\"]"
   ]
  },
  {
   "cell_type": "markdown",
   "id": "006e9c72-1825-4451-b394-53f7cc5ed2df",
   "metadata": {},
   "source": [
    "In a moment, we will turn this into a column of integers too. \n",
    "\n",
    "Another example where the data type is wrong is meal_type. This is a categorical variable with a known set of possible values. pandas has a special data type for those: \n",
    "\n",
    "Note that the values in the meal_type variable has stayed exactly the same, but the type of variable has changed from the object to category. \n",
    "\n",
    "It is a bit tedious to have to go through columns one-by-one as single line assignments to apply type. An alternative is to pass a dictionary that maps column into types, like follow: "
   ]
  },
  {
   "cell_type": "code",
   "execution_count": 11,
   "id": "73a9f8fc-aaa7-4609-9216-b3317d965a18",
   "metadata": {},
   "outputs": [
    {
     "data": {
      "text/plain": [
       "0             Lunch only\n",
       "1             Lunch only\n",
       "2    Breakfast and lunch\n",
       "3             Lunch only\n",
       "4    Breakfast and lunch\n",
       "5             Lunch only\n",
       "Name: meal_plan, dtype: category\n",
       "Categories (2, object): ['Breakfast and lunch', 'Lunch only']"
      ]
     },
     "execution_count": 11,
     "metadata": {},
     "output_type": "execute_result"
    }
   ],
   "source": [
    "students [\"meal_plan\"]= students [\"meal_plan\"].astype (\"category\")\n",
    "students [\"meal_plan\"]"
   ]
  },
  {
   "cell_type": "code",
   "execution_count": 12,
   "id": "42431d2b-d71b-478c-9cc9-299b35d192f0",
   "metadata": {},
   "outputs": [
    {
     "name": "stdout",
     "output_type": "stream",
     "text": [
      "<class 'pandas.core.frame.DataFrame'>\n",
      "RangeIndex: 6 entries, 0 to 5\n",
      "Data columns (total 5 columns):\n",
      " #   Column          Non-Null Count  Dtype   \n",
      "---  ------          --------------  -----   \n",
      " 0   student_id      6 non-null      int64   \n",
      " 1   full_name       6 non-null      string  \n",
      " 2   favourite_food  5 non-null      string  \n",
      " 3   meal_plan       6 non-null      category\n",
      " 4   age             6 non-null      int64   \n",
      "dtypes: category(1), int64(2), string(2)\n",
      "memory usage: 454.0 bytes\n"
     ]
    }
   ],
   "source": [
    "students = students.astype({\"student_id\": \"int\", \"full_name\": \"string\", \"age\": \"int\"})\n",
    "students.info()"
   ]
  },
  {
   "cell_type": "markdown",
   "id": "35d38797-a503-4d45-ae4f-9d20666b6fd7",
   "metadata": {},
   "source": [
    "# 8.3. Reading data from multiple files \n",
    "Sometimes your data is split across multiple files instead of being contained in one single file. With pd.read_csv() you can read these data in one-by-one and then stack them on top of each other in a single frame using the pd.concat() function. \n"
   ]
  },
  {
   "cell_type": "code",
   "execution_count": 13,
   "id": "f106865c-70df-4c51-a580-76974e805075",
   "metadata": {},
   "outputs": [],
   "source": [
    "## list_of_dataframes = [\n",
    "##    pd.read_csv(x)\n",
    "##    for x in [\"file_path1\",\"file_path2\",\"file_path3\"]\n",
    "## ]\n",
    "## sales_files = pd.concat(list_of_dataframes)"
   ]
  },
  {
   "cell_type": "markdown",
   "id": "241164c7-7fa1-4a2b-902c-eae8099f53f0",
   "metadata": {},
   "source": [
    "# 8.4. Writing to a file \n"
   ]
  },
  {
   "cell_type": "code",
   "execution_count": 14,
   "id": "9a3e99f5-17e0-4374-89fe-6cda93eef84d",
   "metadata": {},
   "outputs": [],
   "source": [
    "students.to_csv(\"/Users/wangxinyuan/Desktop/data/students-clean.csv\")"
   ]
  },
  {
   "cell_type": "code",
   "execution_count": 15,
   "id": "19633cce-9bb4-4cc4-a5f1-7ed2ac9ccb19",
   "metadata": {},
   "outputs": [
    {
     "name": "stdout",
     "output_type": "stream",
     "text": [
      "<class 'pandas.core.frame.DataFrame'>\n",
      "RangeIndex: 6 entries, 0 to 5\n",
      "Data columns (total 6 columns):\n",
      " #   Column          Non-Null Count  Dtype \n",
      "---  ------          --------------  ----- \n",
      " 0   Unnamed: 0      6 non-null      int64 \n",
      " 1   student_id      6 non-null      int64 \n",
      " 2   full_name       6 non-null      object\n",
      " 3   favourite_food  5 non-null      object\n",
      " 4   meal_plan       6 non-null      object\n",
      " 5   age             6 non-null      int64 \n",
      "dtypes: int64(3), object(3)\n",
      "memory usage: 420.0+ bytes\n"
     ]
    }
   ],
   "source": [
    "# Let's read it back in and check the info on data types\n",
    "pd.read_csv(\"/Users/wangxinyuan/Desktop/data/students-clean.csv\").info()"
   ]
  },
  {
   "cell_type": "markdown",
   "id": "a601df62-2a87-468c-8600-5d2690994b22",
   "metadata": {},
   "source": [
    "!!! We lost a lot of the nice data work we did! If you want to save data in a file and have it remember the data types, you'll need to use a different data format. "
   ]
  },
  {
   "cell_type": "code",
   "execution_count": 16,
   "id": "0fba0cae-025e-4fbc-ad34-cb0539854687",
   "metadata": {},
   "outputs": [],
   "source": [
    "students.to_feather(\"/Users/wangxinyuan/Desktop/data/students-clean.feather\")"
   ]
  },
  {
   "cell_type": "code",
   "execution_count": 18,
   "id": "e1416fda-8ed6-4051-83b8-2b3d571e8c60",
   "metadata": {},
   "outputs": [
    {
     "name": "stdout",
     "output_type": "stream",
     "text": [
      "<class 'pandas.core.frame.DataFrame'>\n",
      "RangeIndex: 6 entries, 0 to 5\n",
      "Data columns (total 5 columns):\n",
      " #   Column          Non-Null Count  Dtype   \n",
      "---  ------          --------------  -----   \n",
      " 0   student_id      6 non-null      int64   \n",
      " 1   full_name       6 non-null      string  \n",
      " 2   favourite_food  5 non-null      string  \n",
      " 3   meal_plan       6 non-null      category\n",
      " 4   age             6 non-null      int64   \n",
      "dtypes: category(1), int64(2), string(2)\n",
      "memory usage: 454.0 bytes\n"
     ]
    }
   ],
   "source": [
    "pd.read_feather(\"/Users/wangxinyuan/Desktop/data/students-clean.feather\").info()"
   ]
  }
 ],
 "metadata": {
  "kernelspec": {
   "display_name": "Python 3 (ipykernel)",
   "language": "python",
   "name": "python3"
  },
  "language_info": {
   "codemirror_mode": {
    "name": "ipython",
    "version": 3
   },
   "file_extension": ".py",
   "mimetype": "text/x-python",
   "name": "python",
   "nbconvert_exporter": "python",
   "pygments_lexer": "ipython3",
   "version": "3.12.1"
  }
 },
 "nbformat": 4,
 "nbformat_minor": 5
}
